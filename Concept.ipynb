{
 "cells": [
  {
   "cell_type": "code",
   "execution_count": 1,
   "metadata": {},
   "outputs": [],
   "source": [
    "from tramp.algos import ExpectationPropagation\n",
    "from tramp.variables import SILeafVariable as O, SISOVariable as V\n",
    "from tramp.channels import ProductChannel, GaussianChannel, ConvChannel\n",
    "from tramp.priors import GaussianPrior, VonMisesPrior\n",
    "from tramp.likelihoods import GaussianLikelihood\n",
    "import numpy as np\n",
    "\n",
    "\n",
    "class DiffractionChannel(ConvChannel):\n",
    "    def __init__(self, dz, Nx, Ny, c=1):\n",
    "        '''\n",
    "        dz - size of step per layer in transverse direction\n",
    "        Nx, Ny, Nz - length of each axis of scanning domain\n",
    "        c - a scaling constant, eg c=k0 * n0\n",
    "        '''\n",
    "        freq = lambda x, y: (x ** 2 + y ** 2) / (c + np.sqrt(c ** 2 - x ** 2 - y ** 2))\n",
    "        x_coords = np.stack([np.arange(Nx)] * Ny, axis=0)  # x axis indexes columns\n",
    "        y_coords = np.stack([np.arange(Ny)] * Nx, axis=1)  # y axis indexes rows\n",
    "        filter = np.fft.ifftn(np.exp(1j * freq(x_coords, y_coords) * dz))\n",
    "        super().__init__(filter=filter, real=False)\n",
    "\n",
    "class Teacher():\n",
    "    def __init__(self, reg, dz, dim):\n",
    "        '''\n",
    "        reg - parameter ranging [0, infty) controlling regularization strength\n",
    "        dz - step size in transverse axis\n",
    "        dim - [Nx, Ny]\n",
    "        '''\n",
    "        self.l = reg\n",
    "        self.dz = dz\n",
    "        self.dim = dim\n",
    "        self.shape = [2,] + list(self.dim)\n",
    "        self.model = self.build_model()\n",
    "\n",
    "    def build_model(self):\n",
    "        D = DiffractionChannel(dz=self.dz, Nx=self.dim[1], Ny=self.dim[0], c=self.dim[0]*self.dim[1])\n",
    "        z_prior = GaussianPrior(size=self.shape, mean=np.zeros(self.shape), var=1) @ V(id=\"x1\") @ D @ V(id=\"z1\")\n",
    "        s_prior = VonMisesPrior(size=self.shape, b=self.l + 0j) @ V(id=\"s1\")\n",
    "        model = (z_prior + s_prior) @ ProductChannel(shape=self.shape, layer_idx=1) @ V(id=\"x2\") @ GaussianChannel(var=1) @ O(id=\"y\")\n",
    "        model = model.to_model()\n",
    "        return model\n",
    "\n",
    "class Student():\n",
    "    def __init__(self, sample, initvar, finvar, reg, dz, dim):\n",
    "        self.sample = sample\n",
    "        self.initvar = initvar\n",
    "        self.finvar = finvar\n",
    "        self.l = reg\n",
    "        self.dz = dz\n",
    "        self.dim = dim\n",
    "        self.shape = [2,] + list(self.dim)\n",
    "        self.model = self.build_model()\n",
    "\n",
    "    def build_model(self):\n",
    "        D = DiffractionChannel(dz=self.dz, Nx=self.dim[1], Ny=self.dim[0], c=self.dim[0]*self.dim[1])\n",
    "        z_prior = GaussianPrior(size=self.shape, mean=self.sample['x1'], var=self.initvar) @ V(id=\"x1\") @ D @ V(id=\"z1\")\n",
    "        s_prior = VonMisesPrior(size=self.shape, b=self.l + 0j) @ V(id=\"s1\")\n",
    "        model = (z_prior + s_prior) @ ProductChannel(shape=self.shape, layer_idx=1) @ V(id=\"x2\") @ GaussianLikelihood(y=self.sample['y'], y_name=\"y\", var=self.finvar)\n",
    "        model = model.to_model()\n",
    "        return model\n"
   ]
  },
  {
   "cell_type": "code",
   "execution_count": 16,
   "metadata": {},
   "outputs": [],
   "source": [
    "Nx = 2\n",
    "Ny = 2\n",
    "teacher = Teacher(reg=50, dz=0.01, dim=[Ny, Nx])\n",
    "sample = teacher.model.sample()\n",
    "student = Student(sample=sample, initvar=0.01, finvar=0.01, reg=50, dz=0.01, dim=[Ny, Nx])\n",
    "\n",
    "ep = ExpectationPropagation(student.model)\n",
    "ep.iterate(max_iter=20, damping=0)\n",
    "\n",
    "data_ep = ep.get_variables_data('all')"
   ]
  },
  {
   "cell_type": "code",
   "execution_count": 17,
   "metadata": {},
   "outputs": [
    {
     "name": "stdout",
     "output_type": "stream",
     "text": [
      "True s:\n",
      "[[0.98409499+0.17764303j 0.99614617+0.08770865j]\n",
      " [0.98669861-0.16256033j 0.99892095-0.04644291j]]\n",
      "Estimated s:\n",
      "[[0.05257189-0.31061403j 1.31226331+0.00749667j]\n",
      " [1.1851492 +0.25223881j 0.00850316+0.11684475j]]\n",
      "Overlap\n",
      "2.435869319940025\n"
     ]
    }
   ],
   "source": [
    "from tramp.utils.misc import array2complex\n",
    "\n",
    "print(\"True s:\")\n",
    "print(array2complex(sample['s1']))\n",
    "print(\"Estimated s:\")\n",
    "print(array2complex(data_ep['s1']['r']))\n",
    "print(\"Overlap\")\n",
    "print(np.sum(sample['s1'] * data_ep['s1']['r']))"
   ]
  },
  {
   "cell_type": "code",
   "execution_count": null,
   "metadata": {},
   "outputs": [],
   "source": []
  }
 ],
 "metadata": {
  "kernelspec": {
   "display_name": "tramp",
   "language": "python",
   "name": "tramp"
  },
  "language_info": {
   "codemirror_mode": {
    "name": "ipython",
    "version": 3
   },
   "file_extension": ".py",
   "mimetype": "text/x-python",
   "name": "python",
   "nbconvert_exporter": "python",
   "pygments_lexer": "ipython3",
   "version": "3.7.10"
  }
 },
 "nbformat": 4,
 "nbformat_minor": 2
}
